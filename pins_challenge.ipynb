{
 "cells": [
  {
   "cell_type": "markdown",
   "metadata": {},
   "source": [
    "<small><i>This notebook was prepared by [Thunder Shiviah](https://github.com/ThunderShiviah). Source and license info is on [GitHub](https://github.com/ThunderShiviah/code_guild).</i></small>"
   ]
  },
  {
   "cell_type": "markdown",
   "metadata": {},
   "source": [
    "# Challenge Notebook"
   ]
  },
  {
   "cell_type": "markdown",
   "metadata": {},
   "source": [
    "## Problem: Implement a function that converts pins to pronouncible nonsense words.\n",
    "\n",
    "* [Constraints](#Constraints)\n",
    "* [Test Cases](#Test-Cases)\n",
    "* [Algorithm](#Algorithm)\n",
    "* [Code](#Code)\n",
    "* [Unit Test](#Unit-Test)\n",
    "* [Solution Notebook](#Solution-Notebook)"
   ]
  },
  {
   "cell_type": "markdown",
   "metadata": {},
   "source": [
    "## Overview\n",
    "We have to remember too many numbers: credit card PINs, student ID number, codes to open doors, and on and on. We're warned that we should remember these numbers instead of writing them down, but really the human brain is not well-suited to remembering a lot of meaningless numbers. I'll admit: I write them down. But could I remember more?\n",
    "People aren't any better at remembering random sequences of letters than remembering random sequences of digits. However, we are much better at remembering sounds we can pronounce. The word “fesi” doesn't mean anything to me, but it's easier to remember than the number 2354 or the harder-to-pronounce word “iksf”. It turns out to be pretty easy to convert numbers like 2354 into pronounceable nonsense words like “fesi”\n",
    "To create words that are easy to pronounce, we can build them out of consonant-vowel pairs like “ka” or “te”. As it turns out, if we omit ‘x’ and treat ‘y’ as a consonant, the English alphabet has 20 consonants (bcdfghjklmnpqrstvwyz) and 5 vowels (aeiou). 20×5=10×10=100, so one consonant and a vowel (20×5 combinations) is just enough to represent a pair of decimal digits (10×10 combinations).\n",
    "To convert a number (like my office phone number, 346-4140) into an pronounceable string, we'll need to divide it into two-digit chunks.\n",
    "\n",
    "![](./alphacode-divide.png)\n",
    "\n",
    "We're dividing it up in base 10; the underlying representation in base 2 is not relevant to us in this program. To get the last two (low order) digits in base 10, we can take the remainder when divided by 100, using the ‘%’ operator. To get the rest of the digits, we'll use integer division ‘//’, because we want an integer result (34641, not 34641.40).\n",
    "\n",
    "![](./alphacode-strip2digits.png)\n",
    "Now we want to convert those last two decimal digits, 40, into letters. We have 20 consonants and 5 vowels. Suppose we divide a number between 0 and 99 by 5. The quotient will be a number in the range 0..19, and the remainder will be in the range 0..4:\n",
    "\n",
    "![](./alphacode-base-5.png)\n",
    "\n",
    "Just right for picking one of 20 consonants and one of 5 vowels!\n",
    "\n",
    "![](alphacode-letters.png)\n",
    "If I do this again for the next two digits (41), and the next (46), and then the highest digit (3, treated as 03), my office phone number can be converted to the word “bomelela”. It has a nice ring to it.\n",
    "\n",
    "## Requirements\n",
    "\n",
    "You will create a Python program to automate the process described above. To keep it simple, your program need convert only 4-digit numbers, like credit card PINs. The input to your program is a 4-digit decimal number. Your output should be a pronounceable word following the process above. If the input is not a 4-digit word the code should throw a ValueError exception (with a useful error message) using a try/except (read about error handling [here](https://docs.python.org/3.5/tutorial/errors.html)).\n",
    "\n",
    "Furthermore, code should follow proper PEP guidelines ([see here for a rough overview](https://docs.python.org/3/tutorial/controlflow.html#intermezzo-coding-style)) and include an adequate docstring (read [the PEP about docstrings](https://www.python.org/dev/peps/pep-0257/)).\n",
    "\n",
    "### Bonus challenges\n",
    "\n",
    "If you finish early try the following challenges:\n",
    "* Instead of only working with 4 digit numbers, make your program work for any positive integer from 1 to at least 12 digits. Don't do it by making your program long and repetitious ... use a loop, and define Python functions as needed to keep it clear and short.\n",
    "* These alphabetic codes don't really help unless we also have a way to convert a word back into a number. Make your program convert either way: If the input is an integer, convert it to a word. If the input is a word of the correct form (consonants alternating with vowels), convert it back to an integer. If the input cannot be encoded or decoded (e.g., abba123 cannot be translated either direction), print a useful error message."
   ]
  },
  {
   "cell_type": "markdown",
   "metadata": {},
   "source": [
    "## Test Cases\n",
    "\n",
    "* convert_pin(4327) --> lohi\n",
    "* convert_pin(1298) --> dizo\n",
    "* convert_pin(None) --> ValueError\n",
    "* convert_pin('absd') --> ValueError\n",
    "* convert_pin(0) --> ValueError"
   ]
  },
  {
   "cell_type": "markdown",
   "metadata": {},
   "source": [
    "## Algorithm\n",
    "\n",
    "Refer to the [Solution Notebook]().  If you are stuck and need a hint, the solution notebook's algorithm discussion might be a good place to start."
   ]
  },
  {
   "cell_type": "markdown",
   "metadata": {},
   "source": [
    "## Code"
   ]
  },
  {
   "cell_type": "code",
   "execution_count": 15,
   "metadata": {
    "collapsed": false
   },
   "outputs": [],
   "source": [
    "\n",
    "## Constants used by this program\n",
    "CONSONANTS = \"bcdfghjklmnpqrstvwyz\" \n",
    "VOWELS = \"aeiou\"  \n",
    "\n",
    "def convert_pin(pin):\n",
    "    \"\"\"\n",
    "    Arguments - a string of digits\n",
    "    \n",
    "    Return - A readable string representing the PIN number.  Strings\n",
    "    will be in format consonant-vowel-consonant-vowel so \n",
    "    they are pronounceable.\n",
    "    \"\"\"\n",
    "\n",
    "    try:\n",
    "        int(pin)\n",
    "        100/pin\n",
    "    except ValueError:\n",
    "        print(\"Pin value wasn't valid:  ValueError\")\n",
    "        return ValueError\n",
    "    except TypeError:\n",
    "        print(\"Pin value wasn't valid:  TypeError\")\n",
    "        return TypeError\n",
    "    except NameError:\n",
    "        print(\"Pin value wasn't valid:  NameError\")\n",
    "        return ValueError\n",
    "    except ZeroDivisionError:\n",
    "        print(\"Pin value wasn't valid:  ZeroDivisionError\")\n",
    "        return ZeroDivisionError\n",
    "    \n",
    "    num_len = len(str(abs(pin)))\n",
    "    pin_lst=[]\n",
    "    \n",
    "    for n in range(0, num_len-1):\n",
    "        next_num = pin%100\n",
    "        if next_num == 0:\n",
    "            break\n",
    "        pin = pin//100\n",
    "        vow_index = next_num % 5\n",
    "        con_index = next_num // 5\n",
    "        pin_lst.append(VOWELS[vow_index])\n",
    "        pin_lst.append(CONSONANTS[con_index])\n",
    "     \n",
    "    pin_str = ''.join(pin_lst)\n",
    "    pin_str2 = pin_str[::-1]\n",
    "    print(\"Pin string is:  \" + \"*\" + pin_str2 + \"*\")\n",
    "    return pin_str2\n",
    "    \n"
   ]
  },
  {
   "cell_type": "markdown",
   "metadata": {},
   "source": [
    "## Unit Test"
   ]
  },
  {
   "cell_type": "markdown",
   "metadata": {},
   "source": [
    "**The following unit test is expected to fail until you solve the challenge.**"
   ]
  },
  {
   "cell_type": "code",
   "execution_count": 16,
   "metadata": {
    "collapsed": false
   },
   "outputs": [
    {
     "name": "stdout",
     "output_type": "stream",
     "text": [
      "Pin value wasn't valid:  TypeError\n",
      "Pin value wasn't valid:  ValueError\n",
      "Pin value wasn't valid:  ZeroDivisionError\n",
      "Pin string is:  *lohi*\n",
      "Pin string is:  *zolohi*\n",
      "Pin string is:  *dizolohi*\n",
      "Pin string is:  *dizo*\n",
      "Pin string is:  *hi*\n",
      "Success: test_convert_pin\n"
     ]
    }
   ],
   "source": [
    "\"\"\" \n",
    "Author:  Ransom V\n",
    "Written:  9/25/2015\n",
    "\n",
    "Usage:  Program does not take user input.  It was written to demonstrate\n",
    "converting hard coded PIN's to strings.  Strings are easier to remember than \n",
    "PIN's.  Program also demostrates the use of assertions and try/except using \n",
    "the nose.tools library.  Program can convert a PIN of any length.\n",
    "\n",
    "\"\"\"\n",
    "\n",
    "# %load test_foo.[py]\n",
    "from nose.tools import assert_equal\n",
    "\n",
    "\n",
    "class Testconvert_pin(object):\n",
    "\n",
    "    def test_convert_pin(self):\n",
    "        assert_equal(convert_pin(None), TypeError)\n",
    "        assert_equal(convert_pin('absd'), ValueError)\n",
    "        assert_equal(convert_pin(0), ZeroDivisionError)\n",
    "        assert_equal(convert_pin(4327), \"lohi\")\n",
    "        assert_equal(convert_pin(984327), \"zolohi\")\n",
    "        assert_equal(convert_pin(12984327), \"dizolohi\")\n",
    "        assert_equal(convert_pin(1298), \"dizo\")\n",
    "        assert_equal(convert_pin(27), \"hi\")\n",
    "        print('Success: test_convert_pin')\n",
    "\n",
    "def main():\n",
    "    test = Testconvert_pin()\n",
    "    test.test_convert_pin()\n",
    "\n",
    "if __name__ == '__main__':\n",
    "    main()"
   ]
  },
  {
   "cell_type": "code",
   "execution_count": 10,
   "metadata": {
    "collapsed": false
   },
   "outputs": [
    {
     "name": "stdout",
     "output_type": "stream",
     "text": [
      "['a', 'b', 'c', 'd']\n",
      "['a', 'b', 'c', 'd']\n",
      "['a', 'c', 1]\n",
      "['a', 'c', 1]\n",
      "[0, 'o', 4, 6]\n"
     ]
    },
    {
     "ename": "ValueError",
     "evalue": "2 is not in list",
     "output_type": "error",
     "traceback": [
      "\u001b[0;31m---------------------------------------------------------------------------\u001b[0m",
      "\u001b[0;31mValueError\u001b[0m                                Traceback (most recent call last)",
      "\u001b[0;32m<ipython-input-10-376ca4a280f1>\u001b[0m in \u001b[0;36m<module>\u001b[0;34m()\u001b[0m\n\u001b[1;32m     26\u001b[0m \u001b[0mprint\u001b[0m\u001b[0;34m(\u001b[0m\u001b[0mnew_lst\u001b[0m\u001b[0;34m)\u001b[0m\u001b[0;34m\u001b[0m\u001b[0m\n\u001b[1;32m     27\u001b[0m \u001b[0mprint\u001b[0m\u001b[0;34m(\u001b[0m\u001b[0mlst3\u001b[0m\u001b[0;34m[\u001b[0m\u001b[0;34m:\u001b[0m\u001b[0;34m:\u001b[0m\u001b[0;36m2\u001b[0m\u001b[0;34m]\u001b[0m\u001b[0;34m)\u001b[0m\u001b[0;34m\u001b[0m\u001b[0m\n\u001b[0;32m---> 28\u001b[0;31m \u001b[0mprint\u001b[0m\u001b[0;34m(\u001b[0m\u001b[0mnew_lst\u001b[0m\u001b[0;34m.\u001b[0m\u001b[0mindex\u001b[0m\u001b[0;34m(\u001b[0m\u001b[0;36m2\u001b[0m\u001b[0;34m)\u001b[0m\u001b[0;34m)\u001b[0m\u001b[0;34m\u001b[0m\u001b[0m\n\u001b[0m",
      "\u001b[0;31mValueError\u001b[0m: 2 is not in list"
     ]
    }
   ],
   "source": [
    "str1 = \"hello world\"\n",
    "\n",
    "#for i in range(len(str1)):\n",
    "#   print(str1[i])\n",
    "    \n",
    "#for char in str1:\n",
    "#    print(str1)\n",
    "    \n",
    "    \n",
    "lst1 = ['a', 'b', 'c']\n",
    "lst2 = [1, 2, 3]\n",
    "table = [lst1, lst2]\n",
    "\n",
    "\n",
    "lst3 = [0, 1, 2, 3, 4, 5, 6]\n",
    "lst3[2] = \"o\"\n",
    "\n",
    "lst4 = ['a', 'b', 'c', 'd']\n",
    "print(lst4)\n",
    "#lst4[1:3] = ['hi', 'bi']\n",
    "print(lst4)\n",
    "lst4.append(1)\n",
    "print(lst4[::2])\n",
    "new_lst = []\n",
    "new_lst = lst4[::2]\n",
    "print(new_lst)\n",
    "print(lst3[::2])\n",
    "print(new_lst.index(2))\n"
   ]
  },
  {
   "cell_type": "markdown",
   "metadata": {},
   "source": [
    "## Solution Notebook\n",
    "\n",
    "Review the [Solution Notebook]() for a discussion on algorithms and code solutions."
   ]
  }
 ],
 "metadata": {
  "kernelspec": {
   "display_name": "Python 3",
   "language": "python",
   "name": "python3"
  },
  "language_info": {
   "codemirror_mode": {
    "name": "ipython",
    "version": 3
   },
   "file_extension": ".py",
   "mimetype": "text/x-python",
   "name": "python",
   "nbconvert_exporter": "python",
   "pygments_lexer": "ipython3",
   "version": "3.4.3"
  }
 },
 "nbformat": 4,
 "nbformat_minor": 0
}
