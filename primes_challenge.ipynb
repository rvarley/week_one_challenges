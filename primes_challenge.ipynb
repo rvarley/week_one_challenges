{
 "cells": [
  {
   "cell_type": "markdown",
   "metadata": {},
   "source": [
    "<small><i>This notebook was prepared by [Thunder Shiviah](https://github.com/ThunderShiviah). Source and license info is on [GitHub](https://github.com/ThunderShiviah/code_guild).</i></small>"
   ]
  },
  {
   "cell_type": "markdown",
   "metadata": {},
   "source": [
    "# Challenge Notebook"
   ]
  },
  {
   "cell_type": "markdown",
   "metadata": {},
   "source": [
    "## Problem: Implement list_primes(n), which returns a list of primes up to n (inclusive).\n",
    "\n",
    "* [Constraints](#Constraints)\n",
    "* [Test Cases](#Test-Cases)\n",
    "* [Algorithm](#Algorithm)\n",
    "* [Code](#Code)\n",
    "* [Unit Test](#Unit-Test)\n",
    "* [Solution Notebook](#Solution-Notebook)"
   ]
  },
  {
   "cell_type": "markdown",
   "metadata": {},
   "source": [
    "## Constraints\n",
    "\n",
    "* Does list_primes do anything else?\n",
    "    * No"
   ]
  },
  {
   "cell_type": "markdown",
   "metadata": {},
   "source": [
    "## Test Cases\n",
    "\n",
    "* list_primes(1) -> [] # 1 is not prime.\n",
    "* list_primes(2) -> [2] \n",
    "* list_primes(12) -> [2, 3, 5, 7 , 11]"
   ]
  },
  {
   "cell_type": "markdown",
   "metadata": {},
   "source": [
    "## Algorithm\n",
    "\n",
    "Primes are numbers which are only divisible by 1 and themselves.\n",
    "\n",
    "5 is a prime since it can only be divided by itself and 1.\n",
    "9 is not a prime since it can be divided by 3 (3*3 = 9).\n",
    "1 is not a prime for reasons that only mathematicians care about.\n",
    "\n",
    "To check if a number is prime, we can implement a basic algorithm, namely: check if a given number can be divided by any numbers smaller than the given number (note: you really only need to test numbers up to the square root of a given number, but it doesn't really matter for this assignment).\n"
   ]
  },
  {
   "cell_type": "markdown",
   "metadata": {},
   "source": [
    "## Code"
   ]
  },
  {
   "cell_type": "code",
   "execution_count": 1,
   "metadata": {
    "collapsed": false
   },
   "outputs": [],
   "source": [
    "\"\"\"\n",
    "Inputs - An integer on which to find the list of primes between 2 and the number \n",
    "\n",
    "outputs - A list containing the list of primes between 2 and the number (if the number\n",
    "itself is a prime)\n",
    "\"\"\"\n",
    "\n",
    "def list_primes(n):\n",
    "    lst = []\n",
    "    for num in range(2, n + 1):\n",
    "        for number in range(2, num):\n",
    "            if num % number == 0:\n",
    "                break\n",
    "        else:\n",
    "            lst.append(num)\n",
    "\n",
    "\n",
    "    return lst\n",
    "\n"
   ]
  },
  {
   "cell_type": "markdown",
   "metadata": {},
   "source": [
    "## Unit Test"
   ]
  },
  {
   "cell_type": "markdown",
   "metadata": {},
   "source": [
    "**The following unit test is expected to fail until you solve the challenge.**"
   ]
  },
  {
   "cell_type": "code",
   "execution_count": 3,
   "metadata": {
    "collapsed": false
   },
   "outputs": [
    {
     "name": "stdout",
     "output_type": "stream",
     "text": [
      "Success: test_list_primes\n"
     ]
    }
   ],
   "source": [
    "# %load test_list_primes.py\n",
    "\n",
    "# Athor:  Ransom V \n",
    "# Written 9/25/15\n",
    "# References: Google, stackoverflow.com\n",
    "# Usage:  Program takes no input.  It will pass a hard coded series\n",
    "# of numbers to the list_primes function using assert_equals from \n",
    "# nose tools.  If all asserts pass, program outputs 'Success:  test_list_primes'\n",
    "\n",
    "from nose.tools import assert_equal\n",
    "\n",
    "\n",
    "class Test_list_primes(object):\n",
    "\n",
    "    def test_list_primes(self):\n",
    "        assert_equal(list_primes(1), [])\n",
    "        assert_equal(list_primes(2), [2])\n",
    "        assert_equal(list_primes(7), [2, 3, 5, 7])\n",
    "        assert_equal(list_primes(9), list_primes(7))\n",
    "        print('Success: test_list_primes')\n",
    "\n",
    "\n",
    "def main():\n",
    "    test = Test_list_primes()\n",
    "    test.test_list_primes()\n",
    "\n",
    "\n",
    "if __name__ == '__main__':\n",
    "    main()"
   ]
  },
  {
   "cell_type": "markdown",
   "metadata": {},
   "source": [
    "## Solution Notebook\n",
    "\n",
    "Review the [Solution Notebook]() for a discussion on algorithms and code solutions."
   ]
  },
  {
   "cell_type": "code",
   "execution_count": 4,
   "metadata": {
    "collapsed": false
   },
   "outputs": [
    {
     "name": "stdout",
     "output_type": "stream",
     "text": [
      "hello\n"
     ]
    }
   ],
   "source": [
    "print('hello')\n"
   ]
  }
 ],
 "metadata": {
  "kernelspec": {
   "display_name": "Python 3",
   "language": "python",
   "name": "python3"
  },
  "language_info": {
   "codemirror_mode": {
    "name": "ipython",
    "version": 3
   },
   "file_extension": ".py",
   "mimetype": "text/x-python",
   "name": "python",
   "nbconvert_exporter": "python",
   "pygments_lexer": "ipython3",
   "version": "3.4.3"
  }
 },
 "nbformat": 4,
 "nbformat_minor": 0
}
